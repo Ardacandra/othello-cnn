{
 "cells": [
  {
   "cell_type": "code",
   "execution_count": 1,
   "metadata": {},
   "outputs": [],
   "source": [
    "import cv2\n",
    "import os\n",
    "import time"
   ]
  },
  {
   "cell_type": "code",
   "execution_count": 2,
   "metadata": {},
   "outputs": [],
   "source": [
    "vid_cap = cv2.VideoCapture(\"play_recording_2.mp4\")\n",
    "\n",
    "folder = \"png\"\n",
    "# folder = \"png-30fps/{}\".format(v)\n",
    "if os.path.exists(folder) and os.path.isdir(folder):\n",
    "    pass\n",
    "else :\n",
    "    os.makedirs(folder)\n",
    "\n",
    "count = 0\n",
    "frame_rate = 1\n",
    "prev = 0\n",
    "success = True\n",
    "while success:\n",
    "    success, image = vid_cap.read()\n",
    "    time_elapsed = time.time()-prev\n",
    "    if time_elapsed > 1./frame_rate:\n",
    "        prev = time.time()\n",
    "        cv2.imwrite(folder + \"/frame{}.jpg\".format(count), image)\n",
    "        count += 1"
   ]
  },
  {
   "cell_type": "code",
   "execution_count": null,
   "metadata": {},
   "outputs": [],
   "source": []
  }
 ],
 "metadata": {
  "interpreter": {
   "hash": "7ec3019a7cb8f5739f8b27d55fc304c51580b268fd2b34191f81e31e11772118"
  },
  "kernelspec": {
   "display_name": "Python 3.8.3 64-bit",
   "name": "python3"
  },
  "language_info": {
   "codemirror_mode": {
    "name": "ipython",
    "version": 3
   },
   "file_extension": ".py",
   "mimetype": "text/x-python",
   "name": "python",
   "nbconvert_exporter": "python",
   "pygments_lexer": "ipython3",
   "version": "3.8.3"
  },
  "metadata": {
   "interpreter": {
    "hash": "7ec3019a7cb8f5739f8b27d55fc304c51580b268fd2b34191f81e31e11772118"
   }
  },
  "orig_nbformat": 2
 },
 "nbformat": 4,
 "nbformat_minor": 2
}
